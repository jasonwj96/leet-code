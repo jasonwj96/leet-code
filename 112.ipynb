{
 "cells": [
  {
   "cell_type": "code",
   "execution_count": null,
   "id": "initial_id",
   "metadata": {
    "collapsed": true
   },
   "outputs": [],
   "source": [
    "class TreeNode:\n",
    "     def __init__(self, val=0, left=None, right=None):\n",
    "         self.val = val\n",
    "         self.left = left\n",
    "         self.right = right\n",
    "\n",
    "\n",
    "def hasPathSum(root, targetSum):\n",
    "    if not root:\n",
    "        return False\n",
    "\n",
    "    # Check if it's a leaf\n",
    "    if not root.left and not root.right:\n",
    "        return root.val == targetSum\n",
    "\n",
    "    # Recurse left and right\n",
    "    return (\n",
    "        hasPathSum(root.left, targetSum - root.val) or\n",
    "        hasPathSum(root.right, targetSum - root.val)\n",
    "    )"
   ]
  }
 ],
 "metadata": {
  "kernelspec": {
   "display_name": "Python 3",
   "language": "python",
   "name": "python3"
  },
  "language_info": {
   "codemirror_mode": {
    "name": "ipython",
    "version": 2
   },
   "file_extension": ".py",
   "mimetype": "text/x-python",
   "name": "python",
   "nbconvert_exporter": "python",
   "pygments_lexer": "ipython2",
   "version": "2.7.6"
  }
 },
 "nbformat": 4,
 "nbformat_minor": 5
}
