{
 "cells": [
  {
   "cell_type": "code",
   "execution_count": null,
   "id": "initial_id",
   "metadata": {
    "collapsed": true
   },
   "outputs": [],
   "source": [
    "from typing import Optional\n",
    "\n",
    "\n",
    "class TreeNode:\n",
    "     def __init__(self, val=0, left=None, right=None):\n",
    "         self.val = val\n",
    "         self.left = left\n",
    "         self.right = right\n",
    "\n",
    "class Solution:\n",
    "    def flatten(self, root: Optional[TreeNode]) -> None:\n",
    "        \"\"\"\n",
    "        Do not return anything, modify root in-place instead.\n",
    "        \"\"\"\n",
    "        if not root:\n",
    "            return\n",
    "\n",
    "        self.flatten(root.left)\n",
    "        self.flatten(root.right)\n",
    "\n",
    "        # Store the left and right subtrees\n",
    "        left = root.left\n",
    "        right = root.right\n",
    "\n",
    "        # Flatten left subtree as right\n",
    "        root.left = None\n",
    "        root.right = left\n",
    "\n",
    "        # Move to the end of the new right subtree\n",
    "        current = root\n",
    "        while current.right:\n",
    "            current = current.right\n",
    "\n",
    "        # Attach the original right subtree\n",
    "        current.right = right\n"
   ]
  }
 ],
 "metadata": {
  "kernelspec": {
   "display_name": "Python 3",
   "language": "python",
   "name": "python3"
  },
  "language_info": {
   "codemirror_mode": {
    "name": "ipython",
    "version": 2
   },
   "file_extension": ".py",
   "mimetype": "text/x-python",
   "name": "python",
   "nbconvert_exporter": "python",
   "pygments_lexer": "ipython2",
   "version": "2.7.6"
  }
 },
 "nbformat": 4,
 "nbformat_minor": 5
}
