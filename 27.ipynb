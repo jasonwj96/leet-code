{
 "cells": [
  {
   "metadata": {},
   "cell_type": "markdown",
   "source": "![Alt text](docs/27.png)",
   "id": "a1824c8de89157ee"
  },
  {
   "metadata": {
    "ExecuteTime": {
     "end_time": "2025-01-13T02:20:41.889472Z",
     "start_time": "2025-01-13T02:20:41.884410Z"
    }
   },
   "cell_type": "code",
   "source": [
    "from typing import List\n",
    "\n",
    "\n",
    "class Solution:\n",
    "    def removeElement(self, nums: List[int], val: int) -> int:\n",
    "        k = 0\n",
    "\n",
    "        for i in range(len(nums)):\n",
    "            if nums[i] != val:\n",
    "                nums[k] = nums[i]\n",
    "                k += 1\n",
    "\n",
    "        return k"
   ],
   "id": "2d88a6189439218e",
   "outputs": [],
   "execution_count": 1
  },
  {
   "metadata": {
    "ExecuteTime": {
     "end_time": "2025-01-13T02:20:41.898573Z",
     "start_time": "2025-01-13T02:20:41.890475Z"
    }
   },
   "cell_type": "code",
   "source": [
    "nums = [3,2,2,3]\n",
    "val = 3\n",
    "\n",
    "Solution().removeElement(nums, val)"
   ],
   "id": "4d26dafb626beb6a",
   "outputs": [
    {
     "data": {
      "text/plain": [
       "2"
      ]
     },
     "execution_count": 2,
     "metadata": {},
     "output_type": "execute_result"
    }
   ],
   "execution_count": 2
  },
  {
   "metadata": {
    "ExecuteTime": {
     "end_time": "2025-01-13T02:20:41.905641Z",
     "start_time": "2025-01-13T02:20:41.898573Z"
    }
   },
   "cell_type": "code",
   "source": [
    "nums = [3,2,2,3]\n",
    "val = 3\n",
    "\n",
    "Solution().removeElement(nums, val)"
   ],
   "id": "ee163dba92853c98",
   "outputs": [
    {
     "data": {
      "text/plain": [
       "2"
      ]
     },
     "execution_count": 3,
     "metadata": {},
     "output_type": "execute_result"
    }
   ],
   "execution_count": 3
  }
 ],
 "metadata": {
  "kernelspec": {
   "display_name": "Python 3",
   "language": "python",
   "name": "python3"
  },
  "language_info": {
   "codemirror_mode": {
    "name": "ipython",
    "version": 2
   },
   "file_extension": ".py",
   "mimetype": "text/x-python",
   "name": "python",
   "nbconvert_exporter": "python",
   "pygments_lexer": "ipython2",
   "version": "2.7.6"
  }
 },
 "nbformat": 4,
 "nbformat_minor": 5
}
