{
 "cells": [
  {
   "cell_type": "code",
   "id": "initial_id",
   "metadata": {
    "collapsed": true,
    "ExecuteTime": {
     "end_time": "2025-06-27T15:02:25.723525Z",
     "start_time": "2025-06-27T15:02:25.718190Z"
    }
   },
   "source": [
    "class Solution:\n",
    "    def lengthOfLastWord(self, s: str) -> int:\n",
    "\n",
    "        r = len(s) - 1\n",
    "\n",
    "        for i in range(len(s) - 1, -1, -1):\n",
    "            if s[i] != \" \":\n",
    "                r = i\n",
    "                break\n",
    "        l = r\n",
    "\n",
    "        for i in range(r - 1, -1, -1):\n",
    "            if s[i] != \" \":\n",
    "                l = i\n",
    "            else:\n",
    "                break\n",
    "\n",
    "        return (r - l) + 1\n",
    "\n",
    "\n",
    "#s = \"Hello World\"\n",
    "#s = \"   fly me   to   the moon  \"\n",
    "s = \"luffy is still joyboy\"\n",
    "#s = \"a\"\n",
    "print(Solution().lengthOfLastWord(s))"
   ],
   "outputs": [
    {
     "name": "stdout",
     "output_type": "stream",
     "text": [
      "6\n"
     ]
    }
   ],
   "execution_count": 54
  }
 ],
 "metadata": {
  "kernelspec": {
   "display_name": "Python 3",
   "language": "python",
   "name": "python3"
  },
  "language_info": {
   "codemirror_mode": {
    "name": "ipython",
    "version": 2
   },
   "file_extension": ".py",
   "mimetype": "text/x-python",
   "name": "python",
   "nbconvert_exporter": "python",
   "pygments_lexer": "ipython2",
   "version": "2.7.6"
  }
 },
 "nbformat": 4,
 "nbformat_minor": 5
}
