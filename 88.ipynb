{
 "cells": [
  {
   "metadata": {},
   "cell_type": "markdown",
   "source": "![Alt text](docs/88.png)",
   "id": "3ed1d8a2ec84e10a"
  },
  {
   "metadata": {},
   "cell_type": "markdown",
   "source": "",
   "id": "7ef47dc04065a2da"
  },
  {
   "metadata": {
    "ExecuteTime": {
     "end_time": "2025-01-07T00:44:22.644397Z",
     "start_time": "2025-01-07T00:44:22.640416Z"
    }
   },
   "cell_type": "code",
   "source": [
    "from typing import List\n",
    "\n",
    "\n",
    "class Solution:\n",
    "    def merge(self, nums1: List[int], m: int, nums2: List[int], n: int) -> None:\n",
    "        \"\"\"\n",
    "        Do not return anything, modify nums1 in-place instead.\n",
    "        \"\"\"\n",
    "        # Start from the end of both arrays\n",
    "        midx = m - 1\n",
    "        nidx = n - 1 \n",
    "        right = m + n - 1\n",
    "\n",
    "        while nidx >= 0:\n",
    "            if midx >= 0 and nums1[midx] > nums2[nidx]:\n",
    "                nums1[right] = nums1[midx]\n",
    "                midx -= 1\n",
    "            else:\n",
    "                nums1[right] = nums2[nidx]\n",
    "                nidx -= 1\n",
    "\n",
    "            right -= 1"
   ],
   "id": "e6ce69df22d42d00",
   "outputs": [],
   "execution_count": 14
  },
  {
   "metadata": {
    "ExecuteTime": {
     "end_time": "2025-01-07T00:44:22.653327Z",
     "start_time": "2025-01-07T00:44:22.647400Z"
    }
   },
   "cell_type": "code",
   "source": [
    "nums1 = [1, 2, 3, 0, 0, 0]\n",
    "m = 3\n",
    "nums2 = [2, 5, 6]\n",
    "n = 3\n",
    "\n",
    "Solution().merge(nums1, m, nums2, n)\n",
    "print(nums1)\n",
    "\n",
    "nums1 = [1]\n",
    "m = 1\n",
    "nums2 = []\n",
    "n = 0\n",
    "\n",
    "Solution().merge(nums1, m, nums2, n)\n",
    "print(nums1)\n",
    "\n",
    "nums1 = [0]\n",
    "m = 0\n",
    "nums2 = [1]\n",
    "n = 1\n",
    "\n",
    "Solution().merge(nums1, m, nums2, n)\n",
    "print(nums1)"
   ],
   "id": "ca34ffb87a3257fa",
   "outputs": [
    {
     "name": "stdout",
     "output_type": "stream",
     "text": [
      "[1, 2, 2, 3, 5, 6]\n",
      "[1]\n",
      "[1]\n"
     ]
    }
   ],
   "execution_count": 15
  }
 ],
 "metadata": {
  "kernelspec": {
   "display_name": "Python 3",
   "language": "python",
   "name": "python3"
  },
  "language_info": {
   "codemirror_mode": {
    "name": "ipython",
    "version": 2
   },
   "file_extension": ".py",
   "mimetype": "text/x-python",
   "name": "python",
   "nbconvert_exporter": "python",
   "pygments_lexer": "ipython2",
   "version": "2.7.6"
  }
 },
 "nbformat": 4,
 "nbformat_minor": 5
}
