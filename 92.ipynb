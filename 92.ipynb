{
 "cells": [
  {
   "cell_type": "code",
   "execution_count": null,
   "id": "initial_id",
   "metadata": {
    "collapsed": true
   },
   "outputs": [],
   "source": [
    "from typing import Optional\n",
    "\n",
    "class ListNode:\n",
    "    def __init__(self, val=0, next=None):\n",
    "        self.val = val\n",
    "        self.next = next\n",
    "\n",
    "\n",
    "class Solution:\n",
    "    def reverseBetween(self, head: Optional[ListNode], left: int, right: int) -> Optional[ListNode]:\n",
    "\n",
    "        if not head or left == right:\n",
    "            return head\n",
    "\n",
    "        dummy = ListNode(0, head)\n",
    "        prev = dummy\n",
    "\n",
    "        for _ in range(left - 1):\n",
    "            prev = prev.next\n",
    "\n",
    "        cur = prev.next\n",
    "        for _ in range(right - left):\n",
    "            temp = cur.next\n",
    "            cur.next = temp.next\n",
    "            temp.next = prev.next\n",
    "            prev.next = temp\n",
    "\n",
    "        return dummy.next"
   ]
  }
 ],
 "metadata": {
  "kernelspec": {
   "display_name": "Python 3",
   "language": "python",
   "name": "python3"
  },
  "language_info": {
   "codemirror_mode": {
    "name": "ipython",
    "version": 2
   },
   "file_extension": ".py",
   "mimetype": "text/x-python",
   "name": "python",
   "nbconvert_exporter": "python",
   "pygments_lexer": "ipython2",
   "version": "2.7.6"
  }
 },
 "nbformat": 4,
 "nbformat_minor": 5
}
