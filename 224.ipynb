{
 "cells": [
  {
   "cell_type": "code",
   "execution_count": null,
   "id": "initial_id",
   "metadata": {
    "collapsed": true
   },
   "outputs": [],
   "source": [
    "class Solution:\n",
    "    def calculate(self, s):\n",
    "        def calc(it):\n",
    "            def update(op, v):\n",
    "                if op == \"+\": stack.append(v)\n",
    "                if op == \"-\": stack.append(-v)\n",
    "                if op == \"*\": stack.append(stack.pop() * v)\n",
    "                if op == \"/\": stack.append(int(stack.pop() / v))\n",
    "\n",
    "            num, stack, sign = 0, [], \"+\"\n",
    "\n",
    "            while it < len(s):\n",
    "                if s[it].isdigit():\n",
    "                    num = num * 10 + int(s[it])\n",
    "                elif s[it] in \"+-*/\":\n",
    "                    update(sign, num)\n",
    "                    num, sign = 0, s[it]\n",
    "                elif s[it] == \"(\":\n",
    "                    num, j = calc(it + 1)\n",
    "                    it = j - 1\n",
    "                elif s[it] == \")\":\n",
    "                    update(sign, num)\n",
    "                    return sum(stack), it + 1\n",
    "                it += 1\n",
    "            update(sign, num)\n",
    "            return sum(stack)\n",
    "\n",
    "        return calc(0)"
   ]
  }
 ],
 "metadata": {
  "kernelspec": {
   "display_name": "Python 3",
   "language": "python",
   "name": "python3"
  },
  "language_info": {
   "codemirror_mode": {
    "name": "ipython",
    "version": 2
   },
   "file_extension": ".py",
   "mimetype": "text/x-python",
   "name": "python",
   "nbconvert_exporter": "python",
   "pygments_lexer": "ipython2",
   "version": "2.7.6"
  }
 },
 "nbformat": 4,
 "nbformat_minor": 5
}
