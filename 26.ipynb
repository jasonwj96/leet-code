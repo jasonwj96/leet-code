{
 "cells": [
  {
   "metadata": {},
   "cell_type": "markdown",
   "source": "![Alt text](docs/26.png)",
   "id": "5ea8e232ddcd2eff"
  },
  {
   "metadata": {
    "ExecuteTime": {
     "end_time": "2025-01-14T03:25:42.493370Z",
     "start_time": "2025-01-14T03:25:42.490857Z"
    }
   },
   "cell_type": "code",
   "source": [
    "from typing import List\n",
    "\n",
    "\n",
    "class Solution:\n",
    "    def removeDuplicates(self, nums: List[int]) -> int:\n",
    "        x = 0\n",
    "\n",
    "        for i in range(1, len(nums)):\n",
    "            if nums[i] != nums[x]:\n",
    "                x += 1\n",
    "                nums[x] = nums[i]\n",
    "        return x + 1"
   ],
   "id": "2ced09ebfdffc442",
   "outputs": [],
   "execution_count": 7
  },
  {
   "metadata": {
    "ExecuteTime": {
     "end_time": "2025-01-14T03:25:42.501965Z",
     "start_time": "2025-01-14T03:25:42.493370Z"
    }
   },
   "cell_type": "code",
   "source": [
    "nums = [1, 1, 2]\n",
    "\n",
    "Solution().removeDuplicates(nums)"
   ],
   "id": "939ab2c8a7d51441",
   "outputs": [
    {
     "data": {
      "text/plain": [
       "2"
      ]
     },
     "execution_count": 8,
     "metadata": {},
     "output_type": "execute_result"
    }
   ],
   "execution_count": 8
  }
 ],
 "metadata": {
  "kernelspec": {
   "display_name": "Python 3",
   "language": "python",
   "name": "python3"
  },
  "language_info": {
   "codemirror_mode": {
    "name": "ipython",
    "version": 2
   },
   "file_extension": ".py",
   "mimetype": "text/x-python",
   "name": "python",
   "nbconvert_exporter": "python",
   "pygments_lexer": "ipython2",
   "version": "2.7.6"
  }
 },
 "nbformat": 4,
 "nbformat_minor": 5
}
