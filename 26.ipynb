{
 "cells": [
  {
   "metadata": {},
   "cell_type": "markdown",
   "source": "![Alt text](docs/26.png)",
   "id": "5ea8e232ddcd2eff"
  },
  {
   "metadata": {
    "ExecuteTime": {
     "end_time": "2025-06-18T05:03:09.203538Z",
     "start_time": "2025-06-18T05:03:09.197913Z"
    }
   },
   "cell_type": "code",
   "source": [
    "from typing import List\n",
    "\n",
    "\n",
    "class Solution:\n",
    "    def removeDuplicates(self, nums: List[int]) -> int:\n",
    "        x = 0\n",
    "\n",
    "        for i in range(1, len(nums)):\n",
    "            if nums[i] != nums[x]:\n",
    "                nums[x] = nums[i]\n",
    "                x += 1\n",
    "\n",
    "        return x\n",
    "\n",
    "\n",
    "nums = [1, 1, 2]\n",
    "\n",
    "Solution().removeDuplicates(nums)\n",
    "\n"
   ],
   "id": "2ced09ebfdffc442",
   "outputs": [
    {
     "data": {
      "text/plain": [
       "2"
      ]
     },
     "execution_count": 3,
     "metadata": {},
     "output_type": "execute_result"
    }
   ],
   "execution_count": 3
  }
 ],
 "metadata": {
  "kernelspec": {
   "display_name": "Python 3",
   "language": "python",
   "name": "python3"
  },
  "language_info": {
   "codemirror_mode": {
    "name": "ipython",
    "version": 2
   },
   "file_extension": ".py",
   "mimetype": "text/x-python",
   "name": "python",
   "nbconvert_exporter": "python",
   "pygments_lexer": "ipython2",
   "version": "2.7.6"
  }
 },
 "nbformat": 4,
 "nbformat_minor": 5
}
