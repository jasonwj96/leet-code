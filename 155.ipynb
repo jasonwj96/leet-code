{
 "cells": [
  {
   "cell_type": "code",
   "execution_count": null,
   "id": "initial_id",
   "metadata": {
    "collapsed": true
   },
   "outputs": [],
   "source": [
    "class MinStack:\n",
    "    def __init__(self):\n",
    "        self.min = float('inf')\n",
    "        self.stack = []\n",
    "\n",
    "    def push(self, val: int) -> None:\n",
    "        if not self.stack:\n",
    "            self.stack.append(0)\n",
    "            self.min = val\n",
    "        else:\n",
    "            self.stack.append(val - self.min)\n",
    "            if val < self.min:\n",
    "                self.min = val\n",
    "\n",
    "    def pop(self) -> None:\n",
    "        if not self.stack:\n",
    "            return\n",
    "\n",
    "        pop = self.stack.pop()\n",
    "\n",
    "        if pop < 0:\n",
    "            self.min = self.min - pop\n",
    "\n",
    "    def top(self) -> int:\n",
    "        top = self.stack[-1]\n",
    "        if top > 0:\n",
    "            return top + self.min\n",
    "        else:\n",
    "            return self.min\n",
    "\n",
    "    def getMin(self) -> int:\n",
    "        return self.min"
   ]
  }
 ],
 "metadata": {
  "kernelspec": {
   "display_name": "Python 3",
   "language": "python",
   "name": "python3"
  },
  "language_info": {
   "codemirror_mode": {
    "name": "ipython",
    "version": 2
   },
   "file_extension": ".py",
   "mimetype": "text/x-python",
   "name": "python",
   "nbconvert_exporter": "python",
   "pygments_lexer": "ipython2",
   "version": "2.7.6"
  }
 },
 "nbformat": 4,
 "nbformat_minor": 5
}
