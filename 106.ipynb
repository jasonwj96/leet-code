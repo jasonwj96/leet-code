{
 "cells": [
  {
   "cell_type": "code",
   "execution_count": null,
   "id": "initial_id",
   "metadata": {
    "collapsed": true
   },
   "outputs": [],
   "source": [
    "from typing import List, Optional\n",
    "\n",
    "\n",
    "class TreeNode:\n",
    "     def __init__(self, val=0, left=None, right=None):\n",
    "         self.val = val\n",
    "         self.left = left\n",
    "         self.right = right\n",
    "\n",
    "\n",
    "class Solution(object):\n",
    "    def buildTree(self, inorder, postorder):\n",
    "        \"\"\"\n",
    "        :type inorder: List[int]\n",
    "        :type postorder: List[int]\n",
    "        :rtype: TreeNode\n",
    "        \"\"\"\n",
    "        # Base case\n",
    "        if not inorder:\n",
    "            return None\n",
    "\n",
    "        # The last element of postorder list is the root\n",
    "        root_val = postorder.pop()\n",
    "        root = TreeNode(root_val)\n",
    "\n",
    "        # Find the position of the root in the inorder list\n",
    "        inorder_index = inorder.index(root_val)\n",
    "\n",
    "        # Recursively build the left and right subtrees\n",
    "        root.right = self.buildTree(inorder[inorder_index+1:], postorder)\n",
    "        root.left = self.buildTree(inorder[:inorder_index], postorder)\n",
    "\n",
    "        return root"
   ]
  }
 ],
 "metadata": {
  "kernelspec": {
   "display_name": "Python 3",
   "language": "python",
   "name": "python3"
  },
  "language_info": {
   "codemirror_mode": {
    "name": "ipython",
    "version": 2
   },
   "file_extension": ".py",
   "mimetype": "text/x-python",
   "name": "python",
   "nbconvert_exporter": "python",
   "pygments_lexer": "ipython2",
   "version": "2.7.6"
  }
 },
 "nbformat": 4,
 "nbformat_minor": 5
}
