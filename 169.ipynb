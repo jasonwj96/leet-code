{
 "cells": [
  {
   "metadata": {},
   "cell_type": "markdown",
   "source": "![Alt text](docs/169.png)",
   "id": "f10fc3af8763724a"
  },
  {
   "metadata": {
    "ExecuteTime": {
     "end_time": "2025-01-30T01:37:57.057923Z",
     "start_time": "2025-01-30T01:37:57.053418Z"
    }
   },
   "cell_type": "code",
   "source": [
    "from typing import List\n",
    "\n",
    "class Solution:\n",
    "    def majorityElement(self, nums: List[int]) -> int:\n",
    "\n",
    "        count = 0\n",
    "        candidate = None\n",
    "\n",
    "        for num in nums:\n",
    "            if count == 0:\n",
    "                candidate = num\n",
    "            count += (1 if num == candidate else -1)\n",
    "\n",
    "        return candidate"
   ],
   "id": "1708f68db4a92fb8",
   "outputs": [],
   "execution_count": 1
  },
  {
   "metadata": {
    "ExecuteTime": {
     "end_time": "2025-01-30T01:37:57.120779Z",
     "start_time": "2025-01-30T01:37:57.115624Z"
    }
   },
   "cell_type": "code",
   "source": [
    "nums = [3, 2, 3]\n",
    "Solution().majorityElement(nums)\n",
    "nums = [2, 2, 1, 1, 1, 2, 2]\n",
    "Solution().majorityElement(nums)"
   ],
   "id": "7eb31fb5babc385d",
   "outputs": [
    {
     "data": {
      "text/plain": [
       "2"
      ]
     },
     "execution_count": 2,
     "metadata": {},
     "output_type": "execute_result"
    }
   ],
   "execution_count": 2
  }
 ],
 "metadata": {
  "kernelspec": {
   "display_name": "Python 3",
   "language": "python",
   "name": "python3"
  },
  "language_info": {
   "codemirror_mode": {
    "name": "ipython",
    "version": 2
   },
   "file_extension": ".py",
   "mimetype": "text/x-python",
   "name": "python",
   "nbconvert_exporter": "python",
   "pygments_lexer": "ipython2",
   "version": "2.7.6"
  }
 },
 "nbformat": 4,
 "nbformat_minor": 5
}
