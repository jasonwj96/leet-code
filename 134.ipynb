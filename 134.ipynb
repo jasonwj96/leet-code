{
 "cells": [
  {
   "cell_type": "code",
   "id": "initial_id",
   "metadata": {
    "collapsed": true,
    "ExecuteTime": {
     "end_time": "2025-06-24T21:01:33.946794Z",
     "start_time": "2025-06-24T21:01:33.937487Z"
    }
   },
   "source": [
    "from typing import List\n",
    "\n",
    "\n",
    "class Solution:\n",
    "    def canCompleteCircuit(self, gas: List[int], cost: List[int]) -> int:\n",
    "        total_tank = 0     # net gain/loss of gas over the entire trip\n",
    "        curr_tank = 0      # current tank level while traversing\n",
    "        start_index = 0    # candidate starting station\n",
    "\n",
    "        for i in range(len(gas)):\n",
    "            diff = gas[i] - cost[i]\n",
    "            total_tank += diff\n",
    "            curr_tank += diff\n",
    "\n",
    "            if curr_tank < 0:\n",
    "                # Can't reach station i+1, reset starting point\n",
    "                start_index = i + 1\n",
    "                curr_tank = 0\n",
    "\n",
    "        return start_index if total_tank >= 0 else -1\n",
    "\n",
    "\n",
    "gas = [1, 2, 3, 4, 5]\n",
    "cost = [3, 4, 5, 1, 2]\n",
    "Solution().canCompleteCircuit(gas, cost)"
   ],
   "outputs": [
    {
     "data": {
      "text/plain": [
       "3"
      ]
     },
     "execution_count": 19,
     "metadata": {},
     "output_type": "execute_result"
    }
   ],
   "execution_count": 19
  },
  {
   "metadata": {},
   "cell_type": "code",
   "outputs": [],
   "execution_count": null,
   "source": "",
   "id": "afcb78734cf9b65f"
  }
 ],
 "metadata": {
  "kernelspec": {
   "display_name": "Python 3",
   "language": "python",
   "name": "python3"
  },
  "language_info": {
   "codemirror_mode": {
    "name": "ipython",
    "version": 2
   },
   "file_extension": ".py",
   "mimetype": "text/x-python",
   "name": "python",
   "nbconvert_exporter": "python",
   "pygments_lexer": "ipython2",
   "version": "2.7.6"
  }
 },
 "nbformat": 4,
 "nbformat_minor": 5
}
