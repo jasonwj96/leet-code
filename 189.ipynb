{
 "cells": [
  {
   "metadata": {},
   "cell_type": "markdown",
   "source": "![Alt text](docs/189.png)",
   "id": "81d441ee68a6e155"
  },
  {
   "metadata": {
    "ExecuteTime": {
     "end_time": "2025-01-30T16:59:59.805942Z",
     "start_time": "2025-01-30T16:59:59.801774Z"
    }
   },
   "cell_type": "code",
   "source": [
    "from typing import List\n",
    "\n",
    "\n",
    "class Solution:\n",
    "    def rotate(self, nums: List[int], k: int) -> None:\n",
    "        \"\"\"\n",
    "        Do not return anything, modify nums in-place instead.\n",
    "        \"\"\"\n",
    "        n = len(nums)\n",
    "        k %= n  # Handle cases where k > n\n",
    "\n",
    "        # Reverse the entire array\n",
    "        nums.reverse()\n",
    "        # Reverse the first k elements\n",
    "        nums[:k] = reversed(nums[:k])\n",
    "        # Reverse the remaining elements\n",
    "        nums[k:] = reversed(nums[k:])\n"
   ],
   "id": "1de4b06ce4487bdd",
   "outputs": [],
   "execution_count": 15
  },
  {
   "metadata": {
    "ExecuteTime": {
     "end_time": "2025-01-30T16:59:59.856761Z",
     "start_time": "2025-01-30T16:59:59.853817Z"
    }
   },
   "cell_type": "code",
   "source": [
    "nums = [1, 2, 3, 4, 5, 6, 7]\n",
    "print(nums)"
   ],
   "id": "6b961fdfcc0080ef",
   "outputs": [
    {
     "name": "stdout",
     "output_type": "stream",
     "text": [
      "[1, 2, 3, 4, 5, 6, 7]\n"
     ]
    }
   ],
   "execution_count": 16
  },
  {
   "metadata": {
    "ExecuteTime": {
     "end_time": "2025-01-30T16:59:59.970364Z",
     "start_time": "2025-01-30T16:59:59.966728Z"
    }
   },
   "cell_type": "code",
   "source": [
    "k = 3\n",
    "Solution().rotate(nums, k)\n",
    "print(nums)"
   ],
   "id": "8ef36a114cec3264",
   "outputs": [
    {
     "name": "stdout",
     "output_type": "stream",
     "text": [
      "[5, 6, 7, 1, 2, 3, 4]\n"
     ]
    }
   ],
   "execution_count": 17
  },
  {
   "metadata": {
    "ExecuteTime": {
     "end_time": "2025-01-30T17:00:00.081212Z",
     "start_time": "2025-01-30T17:00:00.078063Z"
    }
   },
   "cell_type": "code",
   "source": [
    "nums = [-1, -100, 3, 99]\n",
    "print(nums)"
   ],
   "id": "288c2b8931701b6",
   "outputs": [
    {
     "name": "stdout",
     "output_type": "stream",
     "text": [
      "[-1, -100, 3, 99]\n"
     ]
    }
   ],
   "execution_count": 18
  },
  {
   "metadata": {
    "ExecuteTime": {
     "end_time": "2025-01-30T17:00:00.132166Z",
     "start_time": "2025-01-30T17:00:00.128886Z"
    }
   },
   "cell_type": "code",
   "source": [
    "k = 2\n",
    "Solution().rotate(nums, k)\n",
    "print(nums)"
   ],
   "id": "25461653109b4176",
   "outputs": [
    {
     "name": "stdout",
     "output_type": "stream",
     "text": [
      "[3, 99, -1, -100]\n"
     ]
    }
   ],
   "execution_count": 19
  }
 ],
 "metadata": {
  "kernelspec": {
   "display_name": "Python 3",
   "language": "python",
   "name": "python3"
  },
  "language_info": {
   "codemirror_mode": {
    "name": "ipython",
    "version": 2
   },
   "file_extension": ".py",
   "mimetype": "text/x-python",
   "name": "python",
   "nbconvert_exporter": "python",
   "pygments_lexer": "ipython2",
   "version": "2.7.6"
  }
 },
 "nbformat": 4,
 "nbformat_minor": 5
}
