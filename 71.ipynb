{
 "cells": [
  {
   "cell_type": "code",
   "execution_count": null,
   "id": "initial_id",
   "metadata": {
    "collapsed": true
   },
   "outputs": [],
   "source": [
    "class Solution:\n",
    "    def simplifyPath(self, path: str) -> str:\n",
    "        components = path.split(\"/\")\n",
    "        st = []\n",
    "\n",
    "        for comp in components:\n",
    "            if comp == \"\" or comp == \".\":\n",
    "                continue\n",
    "\n",
    "            if comp == \"..\":\n",
    "                if st:\n",
    "                    st.pop()\n",
    "            else:\n",
    "                st.append(comp)\n",
    "\n",
    "        return \"/\" + \"/\".join(st)"
   ]
  }
 ],
 "metadata": {
  "kernelspec": {
   "display_name": "Python 3",
   "language": "python",
   "name": "python3"
  },
  "language_info": {
   "codemirror_mode": {
    "name": "ipython",
    "version": 2
   },
   "file_extension": ".py",
   "mimetype": "text/x-python",
   "name": "python",
   "nbconvert_exporter": "python",
   "pygments_lexer": "ipython2",
   "version": "2.7.6"
  }
 },
 "nbformat": 4,
 "nbformat_minor": 5
}
