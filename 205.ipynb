{
 "cells": [
  {
   "cell_type": "code",
   "execution_count": null,
   "id": "initial_id",
   "metadata": {
    "collapsed": true
   },
   "outputs": [],
   "source": [
    "class Solution:\n",
    "    def isIsomorphic(self, s: str, t: str) -> bool:\n",
    "        char_index_s = {}\n",
    "        char_index_t = {}\n",
    "\n",
    "        for i in range(len(s)):\n",
    "            if s[i] not in char_index_s:\n",
    "                char_index_s[s[i]] = i\n",
    "\n",
    "            if t[i] not in char_index_t:\n",
    "                char_index_t[t[i]] = i\n",
    "\n",
    "            if char_index_s[s[i]] != char_index_t[t[i]]:\n",
    "                return False\n",
    "\n",
    "        return True"
   ]
  }
 ],
 "metadata": {
  "kernelspec": {
   "display_name": "Python 3",
   "language": "python",
   "name": "python3"
  },
  "language_info": {
   "codemirror_mode": {
    "name": "ipython",
    "version": 2
   },
   "file_extension": ".py",
   "mimetype": "text/x-python",
   "name": "python",
   "nbconvert_exporter": "python",
   "pygments_lexer": "ipython2",
   "version": "2.7.6"
  }
 },
 "nbformat": 4,
 "nbformat_minor": 5
}
