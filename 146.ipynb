{
 "cells": [
  {
   "cell_type": "code",
   "execution_count": null,
   "id": "initial_id",
   "metadata": {
    "collapsed": true
   },
   "outputs": [],
   "source": [
    "class Node:\n",
    "    def __init__(self, key, val):\n",
    "        self.key, self.val = key, val\n",
    "        self.prev = self.next = None\n",
    "\n",
    "class LRUCache:\n",
    "    def __init__(self, capacity: int):\n",
    "        self.cap = capacity\n",
    "        self.cache = {}  # map key to node\n",
    "\n",
    "        self.left, self.right = Node(0, 0), Node(0, 0)\n",
    "        self.left.next, self.right.prev = self.right, self.left\n",
    "\n",
    "    def remove(self, node):\n",
    "        prev, nxt = node.prev, node.next\n",
    "        prev.next, nxt.prev = nxt, prev\n",
    "\n",
    "    def insert(self, node):\n",
    "        prev, nxt = self.right.prev, self.right\n",
    "        prev.next = nxt.prev = node\n",
    "        node.next, node.prev = nxt, prev\n",
    "\n",
    "    def get(self, key: int) -> int:\n",
    "        if key in self.cache:\n",
    "            self.remove(self.cache[key])\n",
    "            self.insert(self.cache[key])\n",
    "            return self.cache[key].val\n",
    "        return -1\n",
    "\n",
    "    def put(self, key: int, value: int) -> None:\n",
    "        if key in self.cache:\n",
    "            self.remove(self.cache[key])\n",
    "        self.cache[key] = Node(key, value)\n",
    "        self.insert(self.cache[key])\n",
    "\n",
    "        if len(self.cache) > self.cap:\n",
    "            lru = self.left.next\n",
    "            self.remove(lru)\n",
    "            del self.cache[lru.key]"
   ]
  }
 ],
 "metadata": {
  "kernelspec": {
   "display_name": "Python 3",
   "language": "python",
   "name": "python3"
  },
  "language_info": {
   "codemirror_mode": {
    "name": "ipython",
    "version": 2
   },
   "file_extension": ".py",
   "mimetype": "text/x-python",
   "name": "python",
   "nbconvert_exporter": "python",
   "pygments_lexer": "ipython2",
   "version": "2.7.6"
  }
 },
 "nbformat": 4,
 "nbformat_minor": 5
}
