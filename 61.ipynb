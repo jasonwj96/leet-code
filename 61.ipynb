{
 "cells": [
  {
   "cell_type": "code",
   "execution_count": null,
   "id": "initial_id",
   "metadata": {
    "collapsed": true
   },
   "outputs": [],
   "source": [
    "from typing import Optional\n",
    "\n",
    "\n",
    "class ListNode:\n",
    "    def __init__(self, val=0, next=None):\n",
    "        self.val = val\n",
    "        self.next = next\n",
    "\n",
    "\n",
    "class Solution:\n",
    "    def rotateRight(self, head: Optional[ListNode], k: int) -> Optional[ListNode]:\n",
    "\n",
    "        if not head:\n",
    "            return head\n",
    "\n",
    "        length = 1\n",
    "        dummy = head\n",
    "\n",
    "        while dummy.next:\n",
    "            dummy = dummy.next\n",
    "            length += 1\n",
    "\n",
    "        position = k % length\n",
    "        if position == 0:\n",
    "            return head\n",
    "\n",
    "        current = head\n",
    "\n",
    "        for _ in range(length - position - 1):\n",
    "            current = current.next\n",
    "\n",
    "        new_head = current.next\n",
    "        current.next = None\n",
    "        dummy.next = head\n",
    "\n",
    "        return new_head"
   ]
  }
 ],
 "metadata": {
  "kernelspec": {
   "display_name": "Python 3",
   "language": "python",
   "name": "python3"
  },
  "language_info": {
   "codemirror_mode": {
    "name": "ipython",
    "version": 2
   },
   "file_extension": ".py",
   "mimetype": "text/x-python",
   "name": "python",
   "nbconvert_exporter": "python",
   "pygments_lexer": "ipython2",
   "version": "2.7.6"
  }
 },
 "nbformat": 4,
 "nbformat_minor": 5
}
