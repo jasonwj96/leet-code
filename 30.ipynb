{
 "cells": [
  {
   "cell_type": "code",
   "execution_count": null,
   "id": "initial_id",
   "metadata": {
    "collapsed": true
   },
   "outputs": [],
   "source": [
    "from collections import Counter\n",
    "\n",
    "def findSubstring(s, words):\n",
    "    if not s or not words:\n",
    "        return []\n",
    "\n",
    "    word_len = len(words[0])\n",
    "    total_len = word_len * len(words)\n",
    "    word_count = Counter(words)\n",
    "    n = len(s)\n",
    "    result = []\n",
    "\n",
    "    for i in range(word_len):\n",
    "        left = i\n",
    "        curr_count = Counter()\n",
    "        for j in range(i, n - word_len + 1, word_len):\n",
    "            word = s[j:j + word_len]\n",
    "            if word in word_count:\n",
    "                curr_count[word] += 1\n",
    "                # Shrink window if word occurs too many times\n",
    "                while curr_count[word] > word_count[word]:\n",
    "                    left_word = s[left:left + word_len]\n",
    "                    curr_count[left_word] -= 1\n",
    "                    left += word_len\n",
    "                # Valid window\n",
    "                if j + word_len - left == total_len:\n",
    "                    result.append(left)\n",
    "            else:\n",
    "                curr_count.clear()\n",
    "                left = j + word_len\n",
    "    return result"
   ]
  }
 ],
 "metadata": {
  "kernelspec": {
   "display_name": "Python 3",
   "language": "python",
   "name": "python3"
  },
  "language_info": {
   "codemirror_mode": {
    "name": "ipython",
    "version": 2
   },
   "file_extension": ".py",
   "mimetype": "text/x-python",
   "name": "python",
   "nbconvert_exporter": "python",
   "pygments_lexer": "ipython2",
   "version": "2.7.6"
  }
 },
 "nbformat": 4,
 "nbformat_minor": 5
}
