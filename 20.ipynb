{
 "cells": [
  {
   "cell_type": "code",
   "execution_count": null,
   "id": "initial_id",
   "metadata": {
    "collapsed": true
   },
   "outputs": [],
   "source": [
    "class Solution:\n",
    "    def isValid(self, s: str) -> bool:\n",
    "        stack = []\n",
    "        closeToOpen = { \")\" : \"(\", \"]\" : \"[\", \"}\" : \"{\" }\n",
    "\n",
    "        for c in s:\n",
    "            if c in closeToOpen:\n",
    "                if stack and stack[-1] == closeToOpen[c]:\n",
    "                    stack.pop()\n",
    "                else:\n",
    "                    return False\n",
    "            else:\n",
    "                stack.append(c)\n",
    "\n",
    "        return True if not stack else False"
   ]
  }
 ],
 "metadata": {
  "kernelspec": {
   "display_name": "Python 3",
   "language": "python",
   "name": "python3"
  },
  "language_info": {
   "codemirror_mode": {
    "name": "ipython",
    "version": 2
   },
   "file_extension": ".py",
   "mimetype": "text/x-python",
   "name": "python",
   "nbconvert_exporter": "python",
   "pygments_lexer": "ipython2",
   "version": "2.7.6"
  }
 },
 "nbformat": 4,
 "nbformat_minor": 5
}
