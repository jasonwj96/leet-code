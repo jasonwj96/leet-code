{
 "cells": [
  {
   "cell_type": "code",
   "execution_count": null,
   "id": "initial_id",
   "metadata": {
    "collapsed": true
   },
   "outputs": [],
   "source": [
    "class Solution:\n",
    "    def convert(self, s: str, numRows: int) -> str:\n",
    "        if numRows == 1 or numRows >= len(s):\n",
    "            return s\n",
    "\n",
    "        idx, d = 0, 1\n",
    "        rows = [[] for _ in range(numRows)]\n",
    "\n",
    "        for char in s:\n",
    "            rows[idx].append(char)\n",
    "            if idx == 0:\n",
    "                d = 1\n",
    "            elif idx == numRows - 1:\n",
    "                d = -1\n",
    "            idx += d\n",
    "\n",
    "        for i in range(numRows):\n",
    "            rows[i] = ''.join(rows[i])\n",
    "\n",
    "        return ''.join(rows) "
   ]
  }
 ],
 "metadata": {
  "kernelspec": {
   "display_name": "Python 3",
   "language": "python",
   "name": "python3"
  },
  "language_info": {
   "codemirror_mode": {
    "name": "ipython",
    "version": 2
   },
   "file_extension": ".py",
   "mimetype": "text/x-python",
   "name": "python",
   "nbconvert_exporter": "python",
   "pygments_lexer": "ipython2",
   "version": "2.7.6"
  }
 },
 "nbformat": 4,
 "nbformat_minor": 5
}
