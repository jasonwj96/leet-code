{
 "cells": [
  {
   "cell_type": "code",
   "execution_count": null,
   "id": "initial_id",
   "metadata": {
    "collapsed": true
   },
   "outputs": [],
   "source": [
    "from typing import List\n",
    "\n",
    "\n",
    "class Solution:\n",
    "    def insert(self, intervals: List[List[int]], newInterval: List[int]) -> List[List[int]]:\n",
    "        n = len(intervals)\n",
    "        i = 0\n",
    "        res = []\n",
    "\n",
    "        while i < n and intervals[i][1] < newInterval[0]:\n",
    "            res.append(intervals[i])\n",
    "            i += 1\n",
    "\n",
    "        while i < n and newInterval[1] >= intervals[i][0]:\n",
    "            newInterval[0] = min(newInterval[0], intervals[i][0])\n",
    "            newInterval[1] = max(newInterval[1], intervals[i][1])\n",
    "            i += 1\n",
    "        res.append(newInterval)\n",
    "\n",
    "        while i < n:\n",
    "            res.append(intervals[i])\n",
    "            i += 1\n",
    "\n",
    "        return res"
   ]
  }
 ],
 "metadata": {
  "kernelspec": {
   "display_name": "Python 3",
   "language": "python",
   "name": "python3"
  },
  "language_info": {
   "codemirror_mode": {
    "name": "ipython",
    "version": 2
   },
   "file_extension": ".py",
   "mimetype": "text/x-python",
   "name": "python",
   "nbconvert_exporter": "python",
   "pygments_lexer": "ipython2",
   "version": "2.7.6"
  }
 },
 "nbformat": 4,
 "nbformat_minor": 5
}
