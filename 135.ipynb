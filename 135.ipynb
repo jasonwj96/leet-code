{
 "cells": [
  {
   "cell_type": "code",
   "execution_count": null,
   "id": "initial_id",
   "metadata": {
    "collapsed": true
   },
   "outputs": [],
   "source": [
    "from typing import List\n",
    "\n",
    "\n",
    "class Solution:\n",
    "    def candy(self, ratings: List[int]) -> int:\n",
    "        arr = [1] * len(ratings)\n",
    "\n",
    "        for i in range(1, len(ratings)):\n",
    "            if ratings[i - 1] < ratings[i]:\n",
    "                arr[i] = arr[i - 1] + 1\n",
    "\n",
    "        for i in range(len(ratings) - 2, -1, -1):\n",
    "            if ratings[i] > ratings[i + 1]:\n",
    "                arr[i] = max(arr[i], arr[i + 1] + 1)\n",
    "\n",
    "        return sum(arr)\n"
   ]
  }
 ],
 "metadata": {
  "kernelspec": {
   "display_name": "Python 3",
   "language": "python",
   "name": "python3"
  },
  "language_info": {
   "codemirror_mode": {
    "name": "ipython",
    "version": 2
   },
   "file_extension": ".py",
   "mimetype": "text/x-python",
   "name": "python",
   "nbconvert_exporter": "python",
   "pygments_lexer": "ipython2",
   "version": "2.7.6"
  }
 },
 "nbformat": 4,
 "nbformat_minor": 5
}
