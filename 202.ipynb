{
 "cells": [
  {
   "cell_type": "code",
   "execution_count": null,
   "id": "initial_id",
   "metadata": {
    "collapsed": true
   },
   "outputs": [],
   "source": [
    "class Solution:\n",
    "    def isHappy(self, n: int) -> bool:\n",
    "        visit = set()\n",
    "\n",
    "        def get_next_number(n):\n",
    "            output = 0\n",
    "\n",
    "            while n:\n",
    "                digit = n % 10\n",
    "                output += digit ** 2\n",
    "                n = n // 10\n",
    "\n",
    "            return output\n",
    "\n",
    "        while n not in visit:\n",
    "            visit.add(n)\n",
    "            n = get_next_number(n)\n",
    "            if n == 1:\n",
    "                return True\n",
    "\n",
    "        return False"
   ]
  }
 ],
 "metadata": {
  "kernelspec": {
   "display_name": "Python 3",
   "language": "python",
   "name": "python3"
  },
  "language_info": {
   "codemirror_mode": {
    "name": "ipython",
    "version": 2
   },
   "file_extension": ".py",
   "mimetype": "text/x-python",
   "name": "python",
   "nbconvert_exporter": "python",
   "pygments_lexer": "ipython2",
   "version": "2.7.6"
  }
 },
 "nbformat": 4,
 "nbformat_minor": 5
}
