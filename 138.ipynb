{
 "cells": [
  {
   "cell_type": "code",
   "execution_count": null,
   "id": "initial_id",
   "metadata": {
    "collapsed": true
   },
   "outputs": [],
   "source": [
    "class Node:\n",
    "    def __init__(self, x: int, next: 'Node' = None, random: 'Node' = None):\n",
    "        self.val = int(x)\n",
    "        self.next = next\n",
    "        self.random = random\n",
    "\n",
    "class Solution:\n",
    "    def copyRandomList(self, head: 'Optional[Node]') -> 'Optional[Node]':\n",
    "        if head is None:\n",
    "            return None\n",
    "\n",
    "        l1 = head\n",
    "        while l1:\n",
    "            l2 = Node(l1.val)\n",
    "            l2.next = l1.random\n",
    "            l1.random = l2\n",
    "            l1 = l1.next\n",
    "\n",
    "        newHead = head.random\n",
    "\n",
    "        l1 = head\n",
    "        while l1:\n",
    "            l2 = l1.random\n",
    "            l2.random = l2.next.random if l2.next else None\n",
    "            l1 = l1.next\n",
    "\n",
    "        l1 = head\n",
    "        while l1 is not None:\n",
    "            l2 = l1.random\n",
    "            l1.random = l2.next\n",
    "            l2.next = l1.next.random if l1.next else None\n",
    "            l1 = l1.next\n",
    "\n",
    "        return newHead"
   ]
  }
 ],
 "metadata": {
  "kernelspec": {
   "display_name": "Python 3",
   "language": "python",
   "name": "python3"
  },
  "language_info": {
   "codemirror_mode": {
    "name": "ipython",
    "version": 2
   },
   "file_extension": ".py",
   "mimetype": "text/x-python",
   "name": "python",
   "nbconvert_exporter": "python",
   "pygments_lexer": "ipython2",
   "version": "2.7.6"
  }
 },
 "nbformat": 4,
 "nbformat_minor": 5
}
