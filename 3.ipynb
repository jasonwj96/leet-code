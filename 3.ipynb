{
 "cells": [
  {
   "cell_type": "code",
   "execution_count": null,
   "id": "initial_id",
   "metadata": {
    "collapsed": true
   },
   "outputs": [],
   "source": [
    "class Solution:\n",
    "    def lengthOfLongestSubstring(self, s: str) -> int:\n",
    "\n",
    "        max_length = left = 0\n",
    "        count = {}\n",
    "\n",
    "        for right, c in enumerate(s):\n",
    "            count[c] = 1 + count.get(c, 0)\n",
    "            while count[c] > 1:\n",
    "                count[s[left]] -= 1\n",
    "                left += 1\n",
    "\n",
    "            max_length = max(max_length, right - left + 1)\n",
    "\n",
    "        return max_length"
   ]
  }
 ],
 "metadata": {
  "kernelspec": {
   "display_name": "Python 3",
   "language": "python",
   "name": "python3"
  },
  "language_info": {
   "codemirror_mode": {
    "name": "ipython",
    "version": 2
   },
   "file_extension": ".py",
   "mimetype": "text/x-python",
   "name": "python",
   "nbconvert_exporter": "python",
   "pygments_lexer": "ipython2",
   "version": "2.7.6"
  }
 },
 "nbformat": 4,
 "nbformat_minor": 5
}
