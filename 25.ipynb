{
 "cells": [
  {
   "cell_type": "code",
   "execution_count": null,
   "id": "initial_id",
   "metadata": {
    "collapsed": true
   },
   "outputs": [],
   "source": [
    "from typing import Optional\n",
    "\n",
    "\n",
    "class ListNode:\n",
    "    def __init__(self, val=0, next=None):\n",
    "        self.val = val\n",
    "        self.next = next\n",
    "\n",
    "class Solution:\n",
    "    def reverseKGroup(self, head: Optional[ListNode], k: int) -> Optional[ListNode]:\n",
    "        dummy = ListNode(0, head)\n",
    "        group_prev = dummy\n",
    "\n",
    "        def get_kth_node(start: ListNode, k: int):\n",
    "            while start and k > 0:\n",
    "                start = start.next\n",
    "                k -= 1\n",
    "\n",
    "            return start\n",
    "\n",
    "        while True:\n",
    "            # Find the k-th node from group_prev\n",
    "            kth_node = get_kth_node(group_prev, k)\n",
    "            if not kth_node:\n",
    "                break\n",
    "            group_next = kth_node.next\n",
    "\n",
    "            # Reverse the group\n",
    "            prev, cur = kth_node.next, group_prev.next\n",
    "            while cur != group_next:\n",
    "                tmp = cur.next\n",
    "                cur.next = prev\n",
    "                prev = cur\n",
    "                cur = tmp\n",
    "\n",
    "            # Reconnect the reversed group with the rest of the list\n",
    "            temp = group_prev.next\n",
    "            group_prev.next = kth_node\n",
    "            group_prev = temp\n",
    "\n",
    "        return dummy.next"
   ]
  }
 ],
 "metadata": {
  "kernelspec": {
   "display_name": "Python 3",
   "language": "python",
   "name": "python3"
  },
  "language_info": {
   "codemirror_mode": {
    "name": "ipython",
    "version": 2
   },
   "file_extension": ".py",
   "mimetype": "text/x-python",
   "name": "python",
   "nbconvert_exporter": "python",
   "pygments_lexer": "ipython2",
   "version": "2.7.6"
  }
 },
 "nbformat": 4,
 "nbformat_minor": 5
}
