{
 "cells": [
  {
   "cell_type": "code",
   "execution_count": null,
   "id": "initial_id",
   "metadata": {
    "collapsed": true
   },
   "outputs": [],
   "source": [
    "from typing import List\n",
    "\n",
    "\n",
    "class Solution:\n",
    "    def evalRPN(self, tokens: List[str]) -> int:\n",
    "        def dfs():\n",
    "            token = tokens.pop()\n",
    "            if token not in \"+-*/\":\n",
    "                return int(token)\n",
    "\n",
    "            right = dfs()\n",
    "            left = dfs()\n",
    "\n",
    "            if token == '+':\n",
    "                return left + right\n",
    "            elif token == '-':\n",
    "                return left - right\n",
    "            elif token == '*':\n",
    "                return left * right\n",
    "            elif token == '/':\n",
    "                return int(left / right)\n",
    "\n",
    "        return dfs()"
   ]
  }
 ],
 "metadata": {
  "kernelspec": {
   "display_name": "Python 3",
   "language": "python",
   "name": "python3"
  },
  "language_info": {
   "codemirror_mode": {
    "name": "ipython",
    "version": 2
   },
   "file_extension": ".py",
   "mimetype": "text/x-python",
   "name": "python",
   "nbconvert_exporter": "python",
   "pygments_lexer": "ipython2",
   "version": "2.7.6"
  }
 },
 "nbformat": 4,
 "nbformat_minor": 5
}
