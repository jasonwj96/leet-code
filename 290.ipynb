{
 "cells": [
  {
   "cell_type": "code",
   "execution_count": null,
   "id": "initial_id",
   "metadata": {
    "collapsed": true
   },
   "outputs": [],
   "source": [
    "class Solution:\n",
    "    def wordPattern(self, pattern: str, s: str) -> bool:\n",
    "        words = s.split()\n",
    "        if len(pattern) != len(words):\n",
    "            return False\n",
    "\n",
    "        char_to_word = {}\n",
    "        word_to_char = {}\n",
    "\n",
    "        for c, w in zip(pattern, words):\n",
    "            if c in char_to_word:\n",
    "                if char_to_word[c] != w:\n",
    "                    return False\n",
    "            else:\n",
    "                char_to_word[c] = w\n",
    "\n",
    "            if w in word_to_char:\n",
    "                if word_to_char[w] != c:\n",
    "                    return False\n",
    "            else:\n",
    "                word_to_char[w] = c\n",
    "\n",
    "        return True"
   ]
  }
 ],
 "metadata": {
  "kernelspec": {
   "display_name": "Python 3",
   "language": "python",
   "name": "python3"
  },
  "language_info": {
   "codemirror_mode": {
    "name": "ipython",
    "version": 2
   },
   "file_extension": ".py",
   "mimetype": "text/x-python",
   "name": "python",
   "nbconvert_exporter": "python",
   "pygments_lexer": "ipython2",
   "version": "2.7.6"
  }
 },
 "nbformat": 4,
 "nbformat_minor": 5
}
