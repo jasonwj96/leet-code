{
 "cells": [
  {
   "cell_type": "code",
   "id": "initial_id",
   "metadata": {
    "collapsed": true,
    "ExecuteTime": {
     "end_time": "2025-06-29T16:12:12.753437Z",
     "start_time": "2025-06-29T16:12:12.743986Z"
    }
   },
   "source": [
    "from typing import List\n",
    "\n",
    "class Solution:\n",
    "    def fullJustify(self, words: List[str], maxWidth: int) -> List[str]:\n",
    "        res = []\n",
    "        i = 0\n",
    "        n = len(words)\n",
    "\n",
    "        while i < n:\n",
    "            # Determine which words can fit in the current line\n",
    "            line_len = len(words[i])\n",
    "            j = i + 1\n",
    "\n",
    "            while j < n and line_len + len(words[j]) + (j - i) <= maxWidth:\n",
    "                line_len += len(words[j])\n",
    "                j += 1\n",
    "\n",
    "            num_words = j - i\n",
    "            num_spaces = maxWidth - line_len\n",
    "\n",
    "            # If last line or only one word in the line -> left-justified\n",
    "            if j == n or num_words == 1:\n",
    "                line = ' '.join(words[i:j])\n",
    "                line += ' ' * (maxWidth - len(line))\n",
    "            else:\n",
    "                spaces_per_gap = num_spaces // (num_words - 1)\n",
    "                extra_spaces = num_spaces % (num_words - 1)\n",
    "\n",
    "                line = \"\"\n",
    "                for k in range(i, j - 1):\n",
    "                    line += words[k]\n",
    "                    line += ' ' * (spaces_per_gap + (1 if k - i < extra_spaces else 0))\n",
    "                line += words[j - 1]  # Last word, no space after it\n",
    "\n",
    "            res.append(line)\n",
    "            i = j\n",
    "\n",
    "        return res\n"
   ],
   "outputs": [],
   "execution_count": 1
  }
 ],
 "metadata": {
  "kernelspec": {
   "display_name": "Python 3",
   "language": "python",
   "name": "python3"
  },
  "language_info": {
   "codemirror_mode": {
    "name": "ipython",
    "version": 2
   },
   "file_extension": ".py",
   "mimetype": "text/x-python",
   "name": "python",
   "nbconvert_exporter": "python",
   "pygments_lexer": "ipython2",
   "version": "2.7.6"
  }
 },
 "nbformat": 4,
 "nbformat_minor": 5
}
