{
 "cells": [
  {
   "cell_type": "code",
   "id": "initial_id",
   "metadata": {
    "collapsed": true,
    "ExecuteTime": {
     "end_time": "2025-06-23T11:54:01.568335Z",
     "start_time": "2025-06-23T11:54:01.561316Z"
    }
   },
   "source": [
    "from typing import List\n",
    "\n",
    "\n",
    "class Solution:\n",
    "    def jump(self, nums: List[int]) -> int:\n",
    "        near = far = jumps = 0\n",
    "\n",
    "        while far < len(nums) - 1:\n",
    "            farthest = 0\n",
    "            for i in range(near, far + 1):\n",
    "                farthest = max(farthest, i + nums[i])\n",
    "\n",
    "            near = far + 1\n",
    "            far = farthest\n",
    "            jumps += 1\n",
    "\n",
    "        return jumps\n",
    "\n",
    "\n",
    "nums = [2,3,1,1,4]\n",
    "print(Solution().jump(nums))"
   ],
   "outputs": [
    {
     "name": "stdout",
     "output_type": "stream",
     "text": [
      "2\n"
     ]
    }
   ],
   "execution_count": 1
  }
 ],
 "metadata": {
  "kernelspec": {
   "display_name": "Python 3",
   "language": "python",
   "name": "python3"
  },
  "language_info": {
   "codemirror_mode": {
    "name": "ipython",
    "version": 2
   },
   "file_extension": ".py",
   "mimetype": "text/x-python",
   "name": "python",
   "nbconvert_exporter": "python",
   "pygments_lexer": "ipython2",
   "version": "2.7.6"
  }
 },
 "nbformat": 4,
 "nbformat_minor": 5
}
