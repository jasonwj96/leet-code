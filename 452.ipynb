{
 "cells": [
  {
   "cell_type": "code",
   "execution_count": null,
   "id": "initial_id",
   "metadata": {
    "collapsed": true
   },
   "outputs": [],
   "source": [
    "class Solution(object):\n",
    "    def findMinArrowShots(self, points):\n",
    "        points.sort(key=lambda x: x[0])\n",
    "        arrows = 1\n",
    "        end = points[0][1]\n",
    "\n",
    "        for balloon in points[1:]:\n",
    "            if balloon[0] > end:\n",
    "                arrows += 1\n",
    "                end = balloon[1]\n",
    "            else:\n",
    "                end = min(end, balloon[1])\n",
    "\n",
    "        return arrows"
   ]
  }
 ],
 "metadata": {
  "kernelspec": {
   "display_name": "Python 3",
   "language": "python",
   "name": "python3"
  },
  "language_info": {
   "codemirror_mode": {
    "name": "ipython",
    "version": 2
   },
   "file_extension": ".py",
   "mimetype": "text/x-python",
   "name": "python",
   "nbconvert_exporter": "python",
   "pygments_lexer": "ipython2",
   "version": "2.7.6"
  }
 },
 "nbformat": 4,
 "nbformat_minor": 5
}
