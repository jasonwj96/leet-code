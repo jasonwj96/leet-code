{
 "cells": [
  {
   "metadata": {},
   "cell_type": "markdown",
   "source": "![Alt text](docs/80.png)",
   "id": "9cfb60ff8127a5ae"
  },
  {
   "metadata": {
    "ExecuteTime": {
     "end_time": "2025-01-29T00:24:43.201877Z",
     "start_time": "2025-01-29T00:24:43.198414Z"
    }
   },
   "cell_type": "code",
   "source": [
    "from typing import List\n",
    "\n",
    "class Solution:\n",
    "    def removeDuplicates(self, nums: List[int]) -> int:\n",
    "        k = 2\n",
    "\n",
    "        for i in range(2, len(nums)):\n",
    "            if nums[i] != nums[k - 2]:\n",
    "                nums[k] = nums[i]\n",
    "                k += 1\n",
    "\n",
    "        return k\n"
   ],
   "id": "afc585161f6e0e1",
   "outputs": [],
   "execution_count": 1
  },
  {
   "metadata": {
    "ExecuteTime": {
     "end_time": "2025-01-29T00:24:43.250468Z",
     "start_time": "2025-01-29T00:24:43.247051Z"
    }
   },
   "cell_type": "code",
   "source": [
    "nums = [1,1,1,2,2,3]\n",
    "print(Solution().removeDuplicates(nums))\n",
    "\n",
    "\n",
    "nums = [0,0,1,1,1,1,2,3,3]\n",
    "print(Solution().removeDuplicates(nums))"
   ],
   "id": "f687d7982d9feca0",
   "outputs": [
    {
     "name": "stdout",
     "output_type": "stream",
     "text": [
      "5\n",
      "7\n"
     ]
    }
   ],
   "execution_count": 2
  }
 ],
 "metadata": {
  "kernelspec": {
   "display_name": "Python 3",
   "language": "python",
   "name": "python3"
  },
  "language_info": {
   "codemirror_mode": {
    "name": "ipython",
    "version": 2
   },
   "file_extension": ".py",
   "mimetype": "text/x-python",
   "name": "python",
   "nbconvert_exporter": "python",
   "pygments_lexer": "ipython2",
   "version": "2.7.6"
  }
 },
 "nbformat": 4,
 "nbformat_minor": 5
}
