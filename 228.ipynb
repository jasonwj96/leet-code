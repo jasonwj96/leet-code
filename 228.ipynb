{
 "cells": [
  {
   "cell_type": "code",
   "execution_count": null,
   "id": "initial_id",
   "metadata": {
    "collapsed": true
   },
   "outputs": [],
   "source": [
    "from typing import List\n",
    "\n",
    "class Solution:\n",
    "    def summaryRanges(self, nums: List[int]) -> List[str]:\n",
    "        result = []\n",
    "        i = 0\n",
    "        n = len(nums)\n",
    "\n",
    "        while i < n:\n",
    "            start = nums[i]\n",
    "            # Extend while consecutive\n",
    "            while i + 1 < n and nums[i + 1] == nums[i] + 1:\n",
    "                i += 1\n",
    "            end = nums[i]\n",
    "            # Format the range\n",
    "            if start == end:\n",
    "                result.append(str(start))\n",
    "            else:\n",
    "                result.append(f\"{start}->{end}\")\n",
    "            i += 1  # Move to the next new start\n",
    "\n",
    "        return result"
   ]
  }
 ],
 "metadata": {
  "kernelspec": {
   "display_name": "Python 3",
   "language": "python",
   "name": "python3"
  },
  "language_info": {
   "codemirror_mode": {
    "name": "ipython",
    "version": 2
   },
   "file_extension": ".py",
   "mimetype": "text/x-python",
   "name": "python",
   "nbconvert_exporter": "python",
   "pygments_lexer": "ipython2",
   "version": "2.7.6"
  }
 },
 "nbformat": 4,
 "nbformat_minor": 5
}
