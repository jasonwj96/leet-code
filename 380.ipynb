{
 "cells": [
  {
   "cell_type": "code",
   "id": "initial_id",
   "metadata": {
    "collapsed": true,
    "ExecuteTime": {
     "end_time": "2025-06-24T18:26:36.892300Z",
     "start_time": "2025-06-24T18:26:36.886344Z"
    }
   },
   "source": [
    "class RandomizedSet(object):\n",
    "    def __init__(self):\n",
    "        import random\n",
    "        self.r = random.choice\n",
    "        self.arr = []\n",
    "        self.pos = {}\n",
    "\n",
    "    def insert(self, val):\n",
    "        return False if val in self.pos else (self.pos.__setitem__(val,len(self.arr)), self.arr.append(val))[1] or True\n",
    "\n",
    "    def remove(self, val):\n",
    "        if val not in self.pos: return False\n",
    "        i = self.pos[val]\n",
    "        last = len(self.arr) - 1\n",
    "        if i < last:\n",
    "            self.arr[i], self.arr[last] = self.arr[last], self.arr[i]\n",
    "            self.pos[self.arr[i]] = i\n",
    "        self.arr.pop()\n",
    "        del self.pos[val]\n",
    "        return True\n",
    "\n",
    "    def getRandom(self):\n",
    "        return self.r(self.arr)"
   ],
   "outputs": [],
   "execution_count": 1
  }
 ],
 "metadata": {
  "kernelspec": {
   "display_name": "Python 3",
   "language": "python",
   "name": "python3"
  },
  "language_info": {
   "codemirror_mode": {
    "name": "ipython",
    "version": 2
   },
   "file_extension": ".py",
   "mimetype": "text/x-python",
   "name": "python",
   "nbconvert_exporter": "python",
   "pygments_lexer": "ipython2",
   "version": "2.7.6"
  }
 },
 "nbformat": 4,
 "nbformat_minor": 5
}
