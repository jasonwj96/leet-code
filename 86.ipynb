{
 "cells": [
  {
   "cell_type": "code",
   "execution_count": null,
   "id": "initial_id",
   "metadata": {
    "collapsed": true
   },
   "outputs": [],
   "source": [
    "from typing import Optional\n",
    "\n",
    "\n",
    "class ListNode:\n",
    "    def __init__(self, val=0, next=None):\n",
    "        self.val = val\n",
    "        self.next = next\n",
    "\n",
    "\n",
    "class Solution:\n",
    "    def partition(self, head: Optional[ListNode], x: int) -> Optional[ListNode]:\n",
    "        before_head = ListNode(0)\n",
    "        after_head = ListNode(0)\n",
    "\n",
    "        before = before_head\n",
    "        after = after_head\n",
    "\n",
    "        current = head\n",
    "\n",
    "        while current:\n",
    "            if current.val < x:\n",
    "                before.next = current\n",
    "                before = before.next\n",
    "            else:\n",
    "                after.next = current\n",
    "                after = after.next\n",
    "            current = current.next\n",
    "\n",
    "        # End the after list\n",
    "        after.next = None\n",
    "\n",
    "        # Connect before list to after list\n",
    "        before.next = after_head.next\n",
    "\n",
    "        return before_head.next"
   ]
  }
 ],
 "metadata": {
  "kernelspec": {
   "display_name": "Python 3",
   "language": "python",
   "name": "python3"
  },
  "language_info": {
   "codemirror_mode": {
    "name": "ipython",
    "version": 2
   },
   "file_extension": ".py",
   "mimetype": "text/x-python",
   "name": "python",
   "nbconvert_exporter": "python",
   "pygments_lexer": "ipython2",
   "version": "2.7.6"
  }
 },
 "nbformat": 4,
 "nbformat_minor": 5
}
