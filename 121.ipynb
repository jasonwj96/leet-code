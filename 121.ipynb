{
 "cells": [
  {
   "metadata": {},
   "cell_type": "markdown",
   "source": "![Alt text](docs/121.png)",
   "id": "e7156a2d317ff1fd"
  },
  {
   "metadata": {
    "ExecuteTime": {
     "end_time": "2025-06-19T14:34:53.945018Z",
     "start_time": "2025-06-19T14:34:53.936963Z"
    }
   },
   "cell_type": "code",
   "source": [
    "from typing import List\n",
    "\n",
    "class Solution:\n",
    "    def maxProfit(self, prices: List[int]) -> int:\n",
    "        buy_price = prices[0]\n",
    "        profit = 0\n",
    "\n",
    "        for p in prices[1:]:\n",
    "            if buy_price > p:\n",
    "                buy_price = p\n",
    "\n",
    "            profit = max(profit, p - buy_price)\n",
    "\n",
    "        return profit"
   ],
   "id": "96d2a9faa8733783",
   "outputs": [],
   "execution_count": 1
  },
  {
   "metadata": {},
   "cell_type": "markdown",
   "source": "",
   "id": "bf19a897bb6e9567"
  },
  {
   "metadata": {
    "ExecuteTime": {
     "end_time": "2025-06-19T14:34:53.990590Z",
     "start_time": "2025-06-19T14:34:53.984041Z"
    }
   },
   "cell_type": "code",
   "source": [
    "prices = [7,1,5,3,6,4]\n",
    "Solution().maxProfit(prices)\n"
   ],
   "id": "dfe30af90c82d6ce",
   "outputs": [
    {
     "data": {
      "text/plain": [
       "5"
      ]
     },
     "execution_count": 2,
     "metadata": {},
     "output_type": "execute_result"
    }
   ],
   "execution_count": 2
  },
  {
   "metadata": {
    "ExecuteTime": {
     "end_time": "2025-06-19T14:34:54.589564Z",
     "start_time": "2025-06-19T14:34:54.582956Z"
    }
   },
   "cell_type": "code",
   "source": [
    "prices = [7,6,4,3,1]\n",
    "Solution().maxProfit(prices)"
   ],
   "id": "f11731bd27e8766b",
   "outputs": [
    {
     "data": {
      "text/plain": [
       "0"
      ]
     },
     "execution_count": 3,
     "metadata": {},
     "output_type": "execute_result"
    }
   ],
   "execution_count": 3
  }
 ],
 "metadata": {
  "kernelspec": {
   "display_name": "Python 3",
   "language": "python",
   "name": "python3"
  },
  "language_info": {
   "codemirror_mode": {
    "name": "ipython",
    "version": 2
   },
   "file_extension": ".py",
   "mimetype": "text/x-python",
   "name": "python",
   "nbconvert_exporter": "python",
   "pygments_lexer": "ipython2",
   "version": "2.7.6"
  }
 },
 "nbformat": 4,
 "nbformat_minor": 5
}
