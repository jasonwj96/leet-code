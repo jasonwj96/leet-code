{
 "cells": [
  {
   "cell_type": "code",
   "execution_count": null,
   "id": "initial_id",
   "metadata": {
    "collapsed": true
   },
   "outputs": [],
   "source": [
    "from typing import List\n",
    "\n",
    "\n",
    "class Solution:\n",
    "    def spiralOrder(self, matrix: List[List[int]]) -> List[int]:\n",
    "        m, n = len(matrix), len(matrix[0])\n",
    "        res = []\n",
    "\n",
    "        # append all the elements in the given direction\n",
    "        def dfs(row, col, r, c, dr, dc):\n",
    "            if row == 0 or col == 0:\n",
    "                return\n",
    "\n",
    "            for i in range(col):\n",
    "                r += dr\n",
    "                c += dc\n",
    "                res.append(matrix[r][c])\n",
    "\n",
    "            # sub-problem\n",
    "            dfs(col, row - 1, r, c, dc, -dr)\n",
    "\n",
    "        # start by going to the right\n",
    "        dfs(m, n, 0, -1, 0, 1)\n",
    "        return res"
   ]
  }
 ],
 "metadata": {
  "kernelspec": {
   "display_name": "Python 3",
   "language": "python",
   "name": "python3"
  },
  "language_info": {
   "codemirror_mode": {
    "name": "ipython",
    "version": 2
   },
   "file_extension": ".py",
   "mimetype": "text/x-python",
   "name": "python",
   "nbconvert_exporter": "python",
   "pygments_lexer": "ipython2",
   "version": "2.7.6"
  }
 },
 "nbformat": 4,
 "nbformat_minor": 5
}
