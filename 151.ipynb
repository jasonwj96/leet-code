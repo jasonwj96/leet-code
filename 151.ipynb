{
 "cells": [
  {
   "cell_type": "code",
   "id": "initial_id",
   "metadata": {
    "collapsed": true,
    "ExecuteTime": {
     "end_time": "2025-06-28T16:39:53.355082Z",
     "start_time": "2025-06-28T16:39:53.349852Z"
    }
   },
   "source": [
    "class Solution:\n",
    "    def reverseWords(self, s: str) -> str:\n",
    "        s = s.rstrip()  # Trim trailing spaces\n",
    "\n",
    "        def get_last_word(s: str):\n",
    "            if not s:\n",
    "                return None\n",
    "\n",
    "            r = len(s) - 1\n",
    "\n",
    "            while r >= 0 and s[r] == \" \":\n",
    "                r -= 1\n",
    "            if r < 0:\n",
    "                return None\n",
    "\n",
    "            l = r\n",
    "\n",
    "            while l >= 0 and s[l] != \" \":\n",
    "                l -= 1\n",
    "\n",
    "            return l + 1, r + 1  # return slice indices\n",
    "\n",
    "        result = get_last_word(s)\n",
    "\n",
    "        if result is None:\n",
    "            return \"\"\n",
    "\n",
    "        l, r = result\n",
    "        last_word = s[l:r]\n",
    "        remaining = s[:l].rstrip()  # remove the last word and trim again\n",
    "\n",
    "        if not remaining:\n",
    "            return last_word\n",
    "        else:\n",
    "            return f\"{last_word} {self.reverseWords(remaining)}\"\n",
    "\n",
    "\n",
    "s = \"the sky is blue\"\n",
    "print(Solution().reverseWords(s))"
   ],
   "outputs": [
    {
     "name": "stdout",
     "output_type": "stream",
     "text": [
      "blue is sky the\n"
     ]
    }
   ],
   "execution_count": 36
  }
 ],
 "metadata": {
  "kernelspec": {
   "display_name": "Python 3",
   "language": "python",
   "name": "python3"
  },
  "language_info": {
   "codemirror_mode": {
    "name": "ipython",
    "version": 2
   },
   "file_extension": ".py",
   "mimetype": "text/x-python",
   "name": "python",
   "nbconvert_exporter": "python",
   "pygments_lexer": "ipython2",
   "version": "2.7.6"
  }
 },
 "nbformat": 4,
 "nbformat_minor": 5
}
